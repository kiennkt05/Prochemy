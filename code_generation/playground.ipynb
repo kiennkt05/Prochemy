{
 "cells": [
  {
   "cell_type": "code",
   "execution_count": 18,
   "id": "10952903",
   "metadata": {},
   "outputs": [],
   "source": [
    "import json\n",
    "import openpyxl\n",
    "\n",
    "prompts = {}\n",
    "with open(\"code_generation_training_set.jsonl\", 'r') as file:\n",
    "    for line in file:\n",
    "        data = json.loads(line)\n",
    "        prompts[data['task_id']] = data['prompt']\n",
    "\n",
    "iter_3_prompt_9 = {}\n",
    "with open(\"gpt-4o_code_generation_training_set/evaluation_results_auto_iter_3/train_set_gpt-4o_9.jsonl_results.jsonl\", 'r') as file:\n",
    "    for line in file:\n",
    "        data = json.loads(line)\n",
    "        iter_3_prompt_9[data['task_id']] = {\n",
    "            'response': data['response'],\n",
    "            'completion': data['completion'],\n",
    "            'result': data['result'],\n",
    "            'passed': data['passed']\n",
    "        }\n",
    "\n",
    "iter_4_prompt_9 = {}\n",
    "with open(\"gpt-4o_code_generation_training_set/evaluation_results_auto_iter_4/train_set_gpt-4o_9.jsonl_results.jsonl\", 'r') as file:\n",
    "    for line in file:\n",
    "        data = json.loads(line)\n",
    "        iter_4_prompt_9[data['task_id']] = {\n",
    "            'response': data['response'],\n",
    "            'completion': data['completion'],\n",
    "            'result': data['result'],\n",
    "            'passed': data['passed']\n",
    "        }\n",
    "\n",
    "import pandas as pd\n",
    "\n",
    "keys = list(iter_3_prompt_9.keys())\n",
    "keys.sort()\n",
    "\n",
    "df = pd.DataFrame()\n",
    "# Headers\n",
    "headers = ['task_id', 'prompt', 'iter_3_response', 'iter_3_completion', 'iter_3_result', 'iter_3_passed', 'iter_4_response', 'iter_4_completion', 'iter_4_result', 'iter_4_passed']\n",
    "\n",
    "for key in keys:\n",
    "    row = {\n",
    "        'task_id': key,\n",
    "        'prompt': prompts[key],\n",
    "        'iter_3_response': iter_3_prompt_9[key]['response'],\n",
    "        'iter_3_completion': iter_3_prompt_9[key]['completion'],\n",
    "        'iter_3_result': iter_3_prompt_9[key]['result'],\n",
    "        'iter_3_passed': iter_3_prompt_9[key]['passed'],\n",
    "        'iter_4_response': iter_4_prompt_9[key]['response'],\n",
    "        'iter_4_completion': iter_4_prompt_9[key]['completion'],\n",
    "        'iter_4_result': iter_4_prompt_9[key]['result'],\n",
    "        'iter_4_passed': iter_4_prompt_9[key]['passed']\n",
    "    }\n",
    "    df = pd.concat([df, pd.DataFrame([row])], ignore_index=True)\n"
   ]
  },
  {
   "cell_type": "code",
   "execution_count": 20,
   "id": "5541c35d",
   "metadata": {},
   "outputs": [],
   "source": [
    "df.to_excel(\"gpt-4o_code_generation_training_set/iter_3_4_prompt_9.xlsx\", index=False)"
   ]
  },
  {
   "cell_type": "code",
   "execution_count": null,
   "id": "a25e36da",
   "metadata": {},
   "outputs": [],
   "source": [
    "tests = {}\n",
    "with open(\"code_generation_training_set.jsonl\", 'r') as file:\n",
    "    for line in file:\n",
    "        data = json.loads(line)\n",
    "        tests[data['task_id']] = data['test']\n",
    "\n",
    "test_df = pd.DataFrame()\n",
    "for key in keys:\n",
    "    row = {\n",
    "        'task_id': key,\n",
    "        'iter_3_test': iter_3_prompt_9[key]['completion'] + \"\\n# BEGIN TESTS\\n\" + tests[key] + \"\\n# END TESTS\",\n",
    "        'iter_4_test': iter_4_prompt_9[key]['completion'] + \"\\n# BEGIN TESTS\\n\" + tests[key] + \"\\n# END TESTS\"\n",
    "    }\n",
    "    test_df = pd.concat([test_df, pd.DataFrame([row])], ignore_index=True)\n",
    "test_df.to_excel(\"gpt-4o_code_generation_training_set/tests.xlsx\", index=False)"
   ]
  },
  {
   "cell_type": "code",
   "execution_count": 15,
   "id": "d8cfe74f",
   "metadata": {},
   "outputs": [
    {
     "data": {
      "text/plain": [
       "['HumanEval/10',\n",
       " 'HumanEval/32',\n",
       " 'HumanEval/41',\n",
       " 'HumanEval/65',\n",
       " 'HumanEval/75',\n",
       " 'HumanEval/77',\n",
       " 'HumanEval/83',\n",
       " 'HumanEval/84',\n",
       " 'HumanEval/93',\n",
       " 'HumanEval/94',\n",
       " 'auto/0',\n",
       " 'auto/1',\n",
       " 'auto/2',\n",
       " 'auto/3',\n",
       " 'auto/4',\n",
       " 'auto/5',\n",
       " 'auto/6',\n",
       " 'auto/7',\n",
       " 'auto/8',\n",
       " 'auto/9']"
      ]
     },
     "execution_count": 15,
     "metadata": {},
     "output_type": "execute_result"
    }
   ],
   "source": [
    "keys = list(iter_3_prompt_9.keys())\n",
    "keys.sort()\n",
    "keys"
   ]
  },
  {
   "cell_type": "code",
   "execution_count": 6,
   "id": "a3b5d8d4",
   "metadata": {},
   "outputs": [],
   "source": [
    "import json\n",
    "\n",
    "path = \"gpt-4o_code_generation_training_set\\MBPP\\AlchemyPrompt\\gpt-4o-mini_openai_temp_0.0.eval_results.json\"\n",
    "results = []\n",
    "with open(path, 'r') as file:\n",
    "    results = json.load(file)['eval']  # Use json.load() instead of json.loads()"
   ]
  },
  {
   "cell_type": "code",
   "execution_count": 11,
   "id": "66d26e3e",
   "metadata": {},
   "outputs": [
    {
     "data": {
      "text/plain": [
       "dict_keys(['Mbpp/3', 'Mbpp/2', 'Mbpp/6', 'Mbpp/4', 'Mbpp/7', 'Mbpp/8', 'Mbpp/9', 'Mbpp/11', 'Mbpp/12', 'Mbpp/14', 'Mbpp/17', 'Mbpp/16', 'Mbpp/18', 'Mbpp/19', 'Mbpp/56', 'Mbpp/20', 'Mbpp/57', 'Mbpp/58', 'Mbpp/59', 'Mbpp/61', 'Mbpp/62', 'Mbpp/63', 'Mbpp/64', 'Mbpp/65', 'Mbpp/66', 'Mbpp/67', 'Mbpp/68', 'Mbpp/69', 'Mbpp/70', 'Mbpp/71', 'Mbpp/72', 'Mbpp/74', 'Mbpp/75', 'Mbpp/77', 'Mbpp/79', 'Mbpp/80', 'Mbpp/82', 'Mbpp/84', 'Mbpp/85', 'Mbpp/86', 'Mbpp/87', 'Mbpp/88', 'Mbpp/89', 'Mbpp/90', 'Mbpp/91', 'Mbpp/92', 'Mbpp/93', 'Mbpp/94', 'Mbpp/95', 'Mbpp/96', 'Mbpp/97', 'Mbpp/98', 'Mbpp/99', 'Mbpp/100', 'Mbpp/101', 'Mbpp/102', 'Mbpp/103', 'Mbpp/104', 'Mbpp/105', 'Mbpp/106', 'Mbpp/108', 'Mbpp/109', 'Mbpp/111', 'Mbpp/113', 'Mbpp/116', 'Mbpp/118', 'Mbpp/119', 'Mbpp/120', 'Mbpp/124', 'Mbpp/125', 'Mbpp/126', 'Mbpp/127', 'Mbpp/128', 'Mbpp/129', 'Mbpp/130', 'Mbpp/131', 'Mbpp/132', 'Mbpp/133', 'Mbpp/135', 'Mbpp/137', 'Mbpp/138', 'Mbpp/123', 'Mbpp/139', 'Mbpp/140', 'Mbpp/141', 'Mbpp/142', 'Mbpp/145', 'Mbpp/160', 'Mbpp/161', 'Mbpp/165', 'Mbpp/166', 'Mbpp/167', 'Mbpp/168', 'Mbpp/170', 'Mbpp/171', 'Mbpp/172', 'Mbpp/222', 'Mbpp/223', 'Mbpp/224', 'Mbpp/162', 'Mbpp/226', 'Mbpp/227', 'Mbpp/230', 'Mbpp/232', 'Mbpp/233', 'Mbpp/234', 'Mbpp/235', 'Mbpp/237', 'Mbpp/238', 'Mbpp/240', 'Mbpp/242', 'Mbpp/244', 'Mbpp/239', 'Mbpp/245', 'Mbpp/247', 'Mbpp/250', 'Mbpp/251', 'Mbpp/252', 'Mbpp/253', 'Mbpp/256', 'Mbpp/257', 'Mbpp/259', 'Mbpp/260', 'Mbpp/261', 'Mbpp/262', 'Mbpp/264', 'Mbpp/265', 'Mbpp/266', 'Mbpp/267', 'Mbpp/268', 'Mbpp/269', 'Mbpp/270', 'Mbpp/255', 'Mbpp/271', 'Mbpp/272', 'Mbpp/273', 'Mbpp/274', 'Mbpp/277', 'Mbpp/276', 'Mbpp/278', 'Mbpp/280', 'Mbpp/279', 'Mbpp/281', 'Mbpp/283', 'Mbpp/282', 'Mbpp/284', 'Mbpp/286', 'Mbpp/285', 'Mbpp/287', 'Mbpp/292', 'Mbpp/290', 'Mbpp/293', 'Mbpp/296', 'Mbpp/294', 'Mbpp/297', 'Mbpp/299', 'Mbpp/300', 'Mbpp/305', 'Mbpp/301', 'Mbpp/306', 'Mbpp/309', 'Mbpp/308', 'Mbpp/310', 'Mbpp/312', 'Mbpp/311', 'Mbpp/388', 'Mbpp/390', 'Mbpp/389', 'Mbpp/391', 'Mbpp/394', 'Mbpp/392', 'Mbpp/395', 'Mbpp/397', 'Mbpp/398', 'Mbpp/405', 'Mbpp/404', 'Mbpp/406', 'Mbpp/410', 'Mbpp/409', 'Mbpp/412', 'Mbpp/414', 'Mbpp/413', 'Mbpp/415', 'Mbpp/419', 'Mbpp/418', 'Mbpp/420', 'Mbpp/422', 'Mbpp/421', 'Mbpp/424', 'Mbpp/425', 'Mbpp/426', 'Mbpp/428', 'Mbpp/427', 'Mbpp/429', 'Mbpp/432', 'Mbpp/430', 'Mbpp/433', 'Mbpp/436', 'Mbpp/435', 'Mbpp/437', 'Mbpp/440', 'Mbpp/439', 'Mbpp/441', 'Mbpp/446', 'Mbpp/445', 'Mbpp/447', 'Mbpp/448', 'Mbpp/450', 'Mbpp/453', 'Mbpp/454', 'Mbpp/451', 'Mbpp/455', 'Mbpp/456', 'Mbpp/457', 'Mbpp/459', 'Mbpp/458', 'Mbpp/460', 'Mbpp/463', 'Mbpp/462', 'Mbpp/465', 'Mbpp/470', 'Mbpp/468', 'Mbpp/471', 'Mbpp/473', 'Mbpp/472', 'Mbpp/474', 'Mbpp/475', 'Mbpp/476', 'Mbpp/478', 'Mbpp/477', 'Mbpp/479', 'Mbpp/555', 'Mbpp/554', 'Mbpp/556', 'Mbpp/557', 'Mbpp/558', 'Mbpp/560', 'Mbpp/559', 'Mbpp/562', 'Mbpp/563', 'Mbpp/564', 'Mbpp/566', 'Mbpp/565', 'Mbpp/567', 'Mbpp/569', 'Mbpp/568', 'Mbpp/572', 'Mbpp/576', 'Mbpp/573', 'Mbpp/577', 'Mbpp/579', 'Mbpp/578', 'Mbpp/580', 'Mbpp/583', 'Mbpp/581', 'Mbpp/585', 'Mbpp/586', 'Mbpp/587', 'Mbpp/589', 'Mbpp/588', 'Mbpp/590', 'Mbpp/592', 'Mbpp/591', 'Mbpp/593', 'Mbpp/596', 'Mbpp/594', 'Mbpp/597', 'Mbpp/599', 'Mbpp/598', 'Mbpp/600', 'Mbpp/603', 'Mbpp/602', 'Mbpp/604', 'Mbpp/606', 'Mbpp/605', 'Mbpp/607', 'Mbpp/610', 'Mbpp/608', 'Mbpp/611', 'Mbpp/614', 'Mbpp/612', 'Mbpp/615', 'Mbpp/618', 'Mbpp/616', 'Mbpp/619', 'Mbpp/622', 'Mbpp/620', 'Mbpp/623', 'Mbpp/626', 'Mbpp/624', 'Mbpp/628', 'Mbpp/629', 'Mbpp/631', 'Mbpp/632', 'Mbpp/633', 'Mbpp/635', 'Mbpp/630', 'Mbpp/638', 'Mbpp/637', 'Mbpp/639', 'Mbpp/643', 'Mbpp/641', 'Mbpp/644', 'Mbpp/720', 'Mbpp/721', 'Mbpp/723', 'Mbpp/722', 'Mbpp/724', 'Mbpp/726', 'Mbpp/725', 'Mbpp/728', 'Mbpp/730', 'Mbpp/731', 'Mbpp/732', 'Mbpp/733', 'Mbpp/734', 'Mbpp/736', 'Mbpp/735', 'Mbpp/737', 'Mbpp/740', 'Mbpp/741', 'Mbpp/742', 'Mbpp/743', 'Mbpp/744', 'Mbpp/745', 'Mbpp/748', 'Mbpp/749', 'Mbpp/750', 'Mbpp/751', 'Mbpp/752', 'Mbpp/753', 'Mbpp/754', 'Mbpp/755', 'Mbpp/757', 'Mbpp/758', 'Mbpp/759', 'Mbpp/760', 'Mbpp/762', 'Mbpp/763', 'Mbpp/764', 'Mbpp/765', 'Mbpp/766', 'Mbpp/767', 'Mbpp/769', 'Mbpp/770', 'Mbpp/771', 'Mbpp/772', 'Mbpp/773', 'Mbpp/775', 'Mbpp/777', 'Mbpp/778', 'Mbpp/780', 'Mbpp/739', 'Mbpp/782', 'Mbpp/784', 'Mbpp/785', 'Mbpp/786', 'Mbpp/787', 'Mbpp/788', 'Mbpp/790', 'Mbpp/791', 'Mbpp/792', 'Mbpp/793', 'Mbpp/794', 'Mbpp/796', 'Mbpp/797', 'Mbpp/798', 'Mbpp/799', 'Mbpp/800', 'Mbpp/801', 'Mbpp/781', 'Mbpp/803', 'Mbpp/804', 'Mbpp/806', 'Mbpp/805', 'Mbpp/807', 'Mbpp/809', 'Mbpp/808'])"
      ]
     },
     "execution_count": 11,
     "metadata": {},
     "output_type": "execute_result"
    }
   ],
   "source": [
    "results.keys()"
   ]
  },
  {
   "cell_type": "code",
   "execution_count": 17,
   "id": "d4456855",
   "metadata": {},
   "outputs": [
    {
     "name": "stdout",
     "output_type": "stream",
     "text": [
      "def similar_elements(list1, list2):\n",
      "    \"\"\"\n",
      "    Find the shared elements between two lists.\n",
      "\n",
      "    Parameters:\n",
      "    list1 (iterable): The first list of elements.\n",
      "    list2 (iterable): The second list of elements.\n",
      "\n",
      "    Returns:\n",
      "    set: A set containing the shared elements from both lists.\n",
      "    \"\"\"\n",
      "    # Convert both lists to sets and find the intersection\n",
      "    return set(list1) & set(list2)\n"
     ]
    }
   ],
   "source": [
    "print(results['Mbpp/2'][0]['solution'])"
   ]
  },
  {
   "cell_type": "code",
   "execution_count": 19,
   "id": "10d2e291",
   "metadata": {},
   "outputs": [
    {
     "data": {
      "text/plain": [
       "{'task_id': 'Mbpp/2',\n",
       " 'solution': 'Here is a self-contained Python script that defines a function to find the shared elements from two given lists. The function is tested with the provided assertion to ensure it works correctly.\\n\\n```python\\ndef similar_elements(list1, list2):\\n    \"\"\"\\n    Find the shared elements between two lists.\\n\\n    Parameters:\\n    list1 (iterable): The first list of elements.\\n    list2 (iterable): The second list of elements.\\n\\n    Returns:\\n    set: A set containing the shared elements from both lists.\\n    \"\"\"\\n    # Convert both lists to sets and find the intersection\\n    return set(list1) & set(list2)\\n\\n# Test the function with the provided assertion\\nassert set(similar_elements((3, 4, 5, 6), (5, 7, 4, 10))) == set((4, 5))\\n\\n# If the assertion passes, print a success message\\nprint(\"The function works correctly and returns the expected shared elements.\")\\n```\\n\\n### Explanation:\\n- The `similar_elements` function takes two lists (or any iterable) as input.\\n- It converts both lists to sets and uses the intersection operator `&` to find common elements.\\n- The result is returned as a set.\\n- An assertion is included to verify that the function behaves as expected with the provided test case.\\n- If the assertion passes, a success message is printed.\\n\\n### Potential Pitfalls:\\n- Ensure that the input lists are iterable; otherwise, the function may raise an error.\\n- The function returns a set, which does not maintain the order of elements. If order is important, consider returning a list instead.'}"
      ]
     },
     "execution_count": 19,
     "metadata": {},
     "output_type": "execute_result"
    }
   ],
   "source": [
    "raw_answers_path = \"gpt-4o_code_generation_training_set\\MBPP\\AlchemyPrompt\\gpt-4o-mini_openai_temp_0.0.raw.jsonl\"\n",
    "raw_answers = []\n",
    "\n",
    "with open(raw_answers_path, 'r') as file:\n",
    "    for line in file:\n",
    "        raw_answers.append(json.loads(line))\n",
    "raw_answers[0]"
   ]
  },
  {
   "cell_type": "code",
   "execution_count": null,
   "id": "c5f30dcc",
   "metadata": {},
   "outputs": [],
   "source": []
  },
  {
   "cell_type": "code",
   "execution_count": null,
   "id": "5b03f97e",
   "metadata": {},
   "outputs": [],
   "source": []
  },
  {
   "cell_type": "code",
   "execution_count": null,
   "id": "599d473a",
   "metadata": {},
   "outputs": [],
   "source": []
  },
  {
   "cell_type": "code",
   "execution_count": null,
   "id": "4c5fb70d",
   "metadata": {},
   "outputs": [],
   "source": []
  },
  {
   "cell_type": "code",
   "execution_count": null,
   "id": "9671acb5",
   "metadata": {},
   "outputs": [],
   "source": []
  },
  {
   "cell_type": "code",
   "execution_count": 29,
   "id": "8b95decf",
   "metadata": {},
   "outputs": [
    {
     "name": "stdout",
     "output_type": "stream",
     "text": [
      "\n",
      "catac\n",
      "catac\n"
     ]
    }
   ],
   "source": [
    "def is_palindrome(string: str) -> bool:\n",
    "    \"\"\" Test if given string is a palindrome \"\"\"\n",
    "    return string == string[::-1]\n",
    "\n",
    "def make_palindrome(string: str) -> str:\n",
    "    \"\"\" Find the shortest palindrome that begins with a supplied string.\n",
    "    Algorithm idea is simple:\n",
    "    - Find the longest postfix of supplied string that is a palindrome.\n",
    "    - Append to the end of the string reverse of a string prefix that comes before the palindromic suffix.\n",
    "    \"\"\"\n",
    "    if is_palindrome(string):\n",
    "        return string\n",
    "    \n",
    "    # Find the longest palindromic suffix\n",
    "    for i in range(len(string)):\n",
    "        if is_palindrome(string[i:]):\n",
    "            # Append the reverse of the prefix before the palindromic suffix\n",
    "            return string + string[:i][::-1]\n",
    "    \n",
    "    # If no palindromic suffix is found, return the string with its reverse appended\n",
    "    return string + string[::-1]\n",
    "\n",
    "# Test cases\n",
    "print(make_palindrome(''))  # Output: ''\n",
    "print(make_palindrome('cat'))  # Output: 'catac'\n",
    "print(make_palindrome('cata'))  # Output: 'catac'\n",
    "# BEGIN TESTS\n",
    "\n",
    "\n",
    "METADATA = {\n",
    "    'author': 'jt',\n",
    "    'dataset': 'test'\n",
    "}\n",
    "\n",
    "\n",
    "def check(candidate):\n",
    "    assert candidate('') == ''\n",
    "    assert candidate('x') == 'x'\n",
    "    assert candidate('xyz') == 'xyzyx'\n",
    "    assert candidate('xyx') == 'xyx'\n",
    "    assert candidate('jerry') == 'jerryrrej'\n",
    "\n",
    "check(make_palindrome)\n",
    "# END TESTS"
   ]
  },
  {
   "cell_type": "code",
   "execution_count": 33,
   "id": "ad1b733d",
   "metadata": {},
   "outputs": [
    {
     "name": "stdout",
     "output_type": "stream",
     "text": [
      "\n",
      "catac\n",
      "xyxyx\n"
     ]
    },
    {
     "ename": "AssertionError",
     "evalue": "",
     "output_type": "error",
     "traceback": [
      "\u001b[1;31m---------------------------------------------------------------------------\u001b[0m",
      "\u001b[1;31mAssertionError\u001b[0m                            Traceback (most recent call last)",
      "Cell \u001b[1;32mIn[33], line 46\u001b[0m\n\u001b[0;32m     43\u001b[0m     \u001b[38;5;28;01massert\u001b[39;00m candidate(\u001b[38;5;124m'\u001b[39m\u001b[38;5;124mxyx\u001b[39m\u001b[38;5;124m'\u001b[39m) \u001b[38;5;241m==\u001b[39m \u001b[38;5;124m'\u001b[39m\u001b[38;5;124mxyx\u001b[39m\u001b[38;5;124m'\u001b[39m\n\u001b[0;32m     44\u001b[0m     \u001b[38;5;28;01massert\u001b[39;00m candidate(\u001b[38;5;124m'\u001b[39m\u001b[38;5;124mjerry\u001b[39m\u001b[38;5;124m'\u001b[39m) \u001b[38;5;241m==\u001b[39m \u001b[38;5;124m'\u001b[39m\u001b[38;5;124mjerryrrej\u001b[39m\u001b[38;5;124m'\u001b[39m\n\u001b[1;32m---> 46\u001b[0m \u001b[43mcheck\u001b[49m\u001b[43m(\u001b[49m\u001b[43mmake_palindrome\u001b[49m\u001b[43m)\u001b[49m\n\u001b[0;32m     47\u001b[0m \u001b[38;5;66;03m# END TESTS\"\u001b[39;00m\n",
      "Cell \u001b[1;32mIn[33], line 43\u001b[0m, in \u001b[0;36mcheck\u001b[1;34m(candidate)\u001b[0m\n\u001b[0;32m     41\u001b[0m \u001b[38;5;28;01massert\u001b[39;00m candidate(\u001b[38;5;124m'\u001b[39m\u001b[38;5;124mx\u001b[39m\u001b[38;5;124m'\u001b[39m) \u001b[38;5;241m==\u001b[39m \u001b[38;5;124m'\u001b[39m\u001b[38;5;124mx\u001b[39m\u001b[38;5;124m'\u001b[39m\n\u001b[0;32m     42\u001b[0m \u001b[38;5;28;01massert\u001b[39;00m candidate(\u001b[38;5;124m'\u001b[39m\u001b[38;5;124mxyz\u001b[39m\u001b[38;5;124m'\u001b[39m) \u001b[38;5;241m==\u001b[39m \u001b[38;5;124m'\u001b[39m\u001b[38;5;124mxyzyx\u001b[39m\u001b[38;5;124m'\u001b[39m\n\u001b[1;32m---> 43\u001b[0m \u001b[38;5;28;01massert\u001b[39;00m candidate(\u001b[38;5;124m'\u001b[39m\u001b[38;5;124mxyx\u001b[39m\u001b[38;5;124m'\u001b[39m) \u001b[38;5;241m==\u001b[39m \u001b[38;5;124m'\u001b[39m\u001b[38;5;124mxyx\u001b[39m\u001b[38;5;124m'\u001b[39m\n\u001b[0;32m     44\u001b[0m \u001b[38;5;28;01massert\u001b[39;00m candidate(\u001b[38;5;124m'\u001b[39m\u001b[38;5;124mjerry\u001b[39m\u001b[38;5;124m'\u001b[39m) \u001b[38;5;241m==\u001b[39m \u001b[38;5;124m'\u001b[39m\u001b[38;5;124mjerryrrej\u001b[39m\u001b[38;5;124m'\u001b[39m\n",
      "\u001b[1;31mAssertionError\u001b[0m: "
     ]
    }
   ],
   "source": [
    "def is_palindrome(string: str) -> bool:\n",
    "    \"\"\" Test if given string is a palindrome \"\"\"\n",
    "    return string == string[::-1]\n",
    "\n",
    "def make_palindrome(string: str) -> str:\n",
    "    \"\"\" Find the shortest palindrome that begins with a supplied string.\n",
    "    Algorithm idea is simple:\n",
    "    - Find the longest postfix of supplied string that is a palindrome.\n",
    "    - Append to the end of the string reverse of a string prefix that comes before the palindromic suffix.\n",
    "    \"\"\"\n",
    "    if not string:\n",
    "        return string\n",
    "    \n",
    "    # Start from the end of the string and find the longest palindromic suffix\n",
    "    for i in range(len(string), 0, -1):\n",
    "        if is_palindrome(string[i-1:]):\n",
    "            # Found the longest palindromic suffix\n",
    "            suffix = string[i-1:]\n",
    "            prefix = string[:i-1]\n",
    "            # Append the reverse of the prefix to the end of the string\n",
    "            return string + prefix[::-1]\n",
    "    \n",
    "    # If no palindromic suffix is found, return the string with its reverse appended\n",
    "    return string + string[::-1]\n",
    "\n",
    "# Test cases\n",
    "print(make_palindrome(''))       # Output: ''\n",
    "print(make_palindrome('cat'))    # Output: 'catac'\n",
    "print(make_palindrome('xyx'))   # Output: 'catac'\n",
    "# BEGIN TESTS\n",
    "\n",
    "\n",
    "METADATA = {\n",
    "    'author': 'jt',\n",
    "    'dataset': 'test'\n",
    "}\n",
    "\n",
    "\n",
    "def check(candidate):\n",
    "    assert candidate('') == ''\n",
    "    assert candidate('x') == 'x'\n",
    "    assert candidate('xyz') == 'xyzyx'\n",
    "    assert candidate('xyx') == 'xyx'\n",
    "    assert candidate('jerry') == 'jerryrrej'\n",
    "\n",
    "check(make_palindrome)\n",
    "# END TESTS\"\n"
   ]
  },
  {
   "cell_type": "code",
   "execution_count": 35,
   "id": "5b4b214b",
   "metadata": {},
   "outputs": [
    {
     "name": "stdout",
     "output_type": "stream",
     "text": [
      "-0.5\n",
      "1.0\n"
     ]
    }
   ],
   "source": [
    "import math\n",
    "\n",
    "def poly(xs: list, x: float):\n",
    "    \"\"\"\n",
    "    Evaluates polynomial with coefficients xs at point x.\n",
    "    return xs[0] + xs[1] * x + xs[2] * x^2 + .... xs[n] * x^n\n",
    "    \"\"\"\n",
    "    return sum([coeff * math.pow(x, i) for i, coeff in enumerate(xs)])\n",
    "\n",
    "def poly_derivative(xs: list, x: float):\n",
    "    \"\"\"\n",
    "    Evaluates the derivative of the polynomial with coefficients xs at point x.\n",
    "    return xs[1] + 2 * xs[2] * x + .... n * xs[n] * x^(n-1)\n",
    "    \"\"\"\n",
    "    return sum([i * coeff * math.pow(x, i - 1) for i, coeff in enumerate(xs) if i > 0])\n",
    "\n",
    "def find_zero(xs: list, initial_guess=0.0, tolerance=1e-7, max_iterations=1000):\n",
    "    \"\"\"\n",
    "    Finds a zero of the polynomial with coefficients xs using the Newton-Raphson method.\n",
    "    \"\"\"\n",
    "    x = initial_guess\n",
    "    for _ in range(max_iterations):\n",
    "        fx = poly(xs, x)\n",
    "        f_prime_x = poly_derivative(xs, x)\n",
    "        \n",
    "        if abs(fx) < tolerance:\n",
    "            return x\n",
    "        \n",
    "        if f_prime_x == 0:\n",
    "            raise ValueError(\"Derivative is zero. No solution found.\")\n",
    "        \n",
    "        x = x - fx / f_prime_x\n",
    "    \n",
    "    raise ValueError(\"Exceeded maximum iterations. No solution found.\")\n",
    "\n",
    "# Test cases\n",
    "print(round(find_zero([1, 2]), 2))  # f(x) = 1 + 2x, should return -0.5\n",
    "print(round(find_zero([-6, 11, -6, 1]), 2))  # (x - 1) * (x - 2) * (x - 3), should return 1.0\n",
    "# BEGIN TESTS\n",
    "\n",
    "\n",
    "METADATA = {}\n",
    "\n",
    "\n",
    "def check(candidate):\n",
    "    import math\n",
    "    import random\n",
    "    rng = random.Random(42)\n",
    "    import copy\n",
    "    for _ in range(100):\n",
    "        ncoeff = 2 * rng.randint(1, 4)\n",
    "        coeffs = []\n",
    "        for _ in range(ncoeff):\n",
    "            coeff = rng.randint(-10, 10)\n",
    "            if coeff == 0:\n",
    "                coeff = 1\n",
    "            coeffs.append(coeff)\n",
    "        solution = candidate(copy.deepcopy(coeffs))\n",
    "        assert math.fabs(poly(coeffs, solution)) < 1e-4\n",
    "\n",
    "check(find_zero)\n",
    "# END TESTS\n"
   ]
  },
  {
   "cell_type": "code",
   "execution_count": 36,
   "id": "a7f9b214",
   "metadata": {},
   "outputs": [
    {
     "name": "stdout",
     "output_type": "stream",
     "text": [
      "-0.5\n",
      "1.0\n"
     ]
    }
   ],
   "source": [
    "def derivative(xs: list):\n",
    "    \"\"\"\n",
    "    Computes the derivative of the polynomial with coefficients xs.\n",
    "    The derivative of a polynomial a_n*x^n + ... + a_1*x + a_0 is\n",
    "    n*a_n*x^(n-1) + ... + 2*a_2*x + a_1.\n",
    "    \"\"\"\n",
    "    return [i * coeff for i, coeff in enumerate(xs)][1:]\n",
    "\n",
    "def find_zero(xs: list, initial_guess=0.0, tolerance=1e-7, max_iterations=1000):\n",
    "    \"\"\"\n",
    "    Finds a root of the polynomial with coefficients xs using the Newton-Raphson method.\n",
    "    \"\"\"\n",
    "    x = initial_guess\n",
    "    for _ in range(max_iterations):\n",
    "        fx = poly(xs, x)\n",
    "        if abs(fx) < tolerance:\n",
    "            return x\n",
    "        dfx = poly(derivative(xs), x)\n",
    "        if dfx == 0:\n",
    "            raise ValueError(\"Derivative is zero. Newton-Raphson method fails.\")\n",
    "        x -= fx / dfx\n",
    "    raise ValueError(\"Exceeded maximum iterations. No root found.\")\n",
    "\n",
    "# Test cases\n",
    "print(round(find_zero([1, 2]), 2))  # f(x) = 1 + 2x, expected root: -0.5\n",
    "print(round(find_zero([-6, 11, -6, 1]), 2))  # f(x) = -6 + 11x - 6x^2 + x^3, expected root: 1.0\n",
    "# BEGIN TESTS\n",
    "\n",
    "\n",
    "METADATA = {}\n",
    "\n",
    "\n",
    "def check(candidate):\n",
    "    import math\n",
    "    import random\n",
    "    rng = random.Random(42)\n",
    "    import copy\n",
    "    for _ in range(100):\n",
    "        ncoeff = 2 * rng.randint(1, 4)\n",
    "        coeffs = []\n",
    "        for _ in range(ncoeff):\n",
    "            coeff = rng.randint(-10, 10)\n",
    "            if coeff == 0:\n",
    "                coeff = 1\n",
    "            coeffs.append(coeff)\n",
    "        solution = candidate(copy.deepcopy(coeffs))\n",
    "        assert math.fabs(poly(coeffs, solution)) < 1e-4\n",
    "\n",
    "check(find_zero)\n",
    "# END TESTS\n"
   ]
  },
  {
   "cell_type": "code",
   "execution_count": 37,
   "id": "3f9ebec1",
   "metadata": {},
   "outputs": [
    {
     "name": "stdout",
     "output_type": "stream",
     "text": [
      "True\n",
      "False\n",
      "False\n",
      "True\n",
      "True\n",
      "False\n"
     ]
    },
    {
     "ename": "AssertionError",
     "evalue": "Third test error: False",
     "output_type": "error",
     "traceback": [
      "\u001b[1;31m---------------------------------------------------------------------------\u001b[0m",
      "\u001b[1;31mAssertionError\u001b[0m                            Traceback (most recent call last)",
      "Cell \u001b[1;32mIn[37], line 45\u001b[0m\n\u001b[0;32m     42\u001b[0m     \u001b[38;5;28;01massert\u001b[39;00m candidate(\u001b[38;5;241m0\u001b[39m) \u001b[38;5;241m==\u001b[39m \u001b[38;5;28;01mTrue\u001b[39;00m, \u001b[38;5;124m\"\u001b[39m\u001b[38;5;124m1st edge test error: \u001b[39m\u001b[38;5;124m\"\u001b[39m \u001b[38;5;241m+\u001b[39m \u001b[38;5;28mstr\u001b[39m(candidate(\u001b[38;5;241m0\u001b[39m))\n\u001b[0;32m     43\u001b[0m     \u001b[38;5;28;01massert\u001b[39;00m candidate(\u001b[38;5;241m1729\u001b[39m) \u001b[38;5;241m==\u001b[39m \u001b[38;5;28;01mFalse\u001b[39;00m, \u001b[38;5;124m\"\u001b[39m\u001b[38;5;124m2nd edge test error: \u001b[39m\u001b[38;5;124m\"\u001b[39m \u001b[38;5;241m+\u001b[39m \u001b[38;5;28mstr\u001b[39m(candidate(\u001b[38;5;241m1728\u001b[39m))\n\u001b[1;32m---> 45\u001b[0m \u001b[43mcheck\u001b[49m\u001b[43m(\u001b[49m\u001b[43miscube\u001b[49m\u001b[43m)\u001b[49m\n\u001b[0;32m     46\u001b[0m \u001b[38;5;66;03m# END TESTS\"\u001b[39;00m\n",
      "Cell \u001b[1;32mIn[37], line 35\u001b[0m, in \u001b[0;36mcheck\u001b[1;34m(candidate)\u001b[0m\n\u001b[0;32m     33\u001b[0m \u001b[38;5;28;01massert\u001b[39;00m candidate(\u001b[38;5;241m1\u001b[39m) \u001b[38;5;241m==\u001b[39m \u001b[38;5;28;01mTrue\u001b[39;00m, \u001b[38;5;124m\"\u001b[39m\u001b[38;5;124mFirst test error: \u001b[39m\u001b[38;5;124m\"\u001b[39m \u001b[38;5;241m+\u001b[39m \u001b[38;5;28mstr\u001b[39m(candidate(\u001b[38;5;241m1\u001b[39m))\n\u001b[0;32m     34\u001b[0m \u001b[38;5;28;01massert\u001b[39;00m candidate(\u001b[38;5;241m2\u001b[39m) \u001b[38;5;241m==\u001b[39m \u001b[38;5;28;01mFalse\u001b[39;00m, \u001b[38;5;124m\"\u001b[39m\u001b[38;5;124mSecond test error: \u001b[39m\u001b[38;5;124m\"\u001b[39m \u001b[38;5;241m+\u001b[39m \u001b[38;5;28mstr\u001b[39m(candidate(\u001b[38;5;241m2\u001b[39m))\n\u001b[1;32m---> 35\u001b[0m \u001b[38;5;28;01massert\u001b[39;00m candidate(\u001b[38;5;241m-\u001b[39m\u001b[38;5;241m1\u001b[39m) \u001b[38;5;241m==\u001b[39m \u001b[38;5;28;01mTrue\u001b[39;00m, \u001b[38;5;124m\"\u001b[39m\u001b[38;5;124mThird test error: \u001b[39m\u001b[38;5;124m\"\u001b[39m \u001b[38;5;241m+\u001b[39m \u001b[38;5;28mstr\u001b[39m(candidate(\u001b[38;5;241m-\u001b[39m\u001b[38;5;241m1\u001b[39m))\n\u001b[0;32m     36\u001b[0m \u001b[38;5;28;01massert\u001b[39;00m candidate(\u001b[38;5;241m64\u001b[39m) \u001b[38;5;241m==\u001b[39m \u001b[38;5;28;01mTrue\u001b[39;00m, \u001b[38;5;124m\"\u001b[39m\u001b[38;5;124mFourth test error: \u001b[39m\u001b[38;5;124m\"\u001b[39m \u001b[38;5;241m+\u001b[39m \u001b[38;5;28mstr\u001b[39m(candidate(\u001b[38;5;241m64\u001b[39m))\n\u001b[0;32m     37\u001b[0m \u001b[38;5;28;01massert\u001b[39;00m candidate(\u001b[38;5;241m180\u001b[39m) \u001b[38;5;241m==\u001b[39m \u001b[38;5;28;01mFalse\u001b[39;00m, \u001b[38;5;124m\"\u001b[39m\u001b[38;5;124mFifth test error: \u001b[39m\u001b[38;5;124m\"\u001b[39m \u001b[38;5;241m+\u001b[39m \u001b[38;5;28mstr\u001b[39m(candidate(\u001b[38;5;241m180\u001b[39m))\n",
      "\u001b[1;31mAssertionError\u001b[0m: Third test error: False"
     ]
    }
   ],
   "source": [
    "def iscube(a):\n",
    "    '''\n",
    "    This function checks if the given integer `a` is a perfect cube of some integer.\n",
    "    '''\n",
    "    # Handle the special case where a is 0\n",
    "    if a == 0:\n",
    "        return True\n",
    "    \n",
    "    # Calculate the absolute value of the cube root of a\n",
    "    abs_a = abs(a)\n",
    "    # Calculate the integer cube root range to check\n",
    "    n = int(abs_a ** (1/3))\n",
    "    \n",
    "    # Check if any of the numbers n, n+1, or n-1 cubed equals a\n",
    "    # This accounts for any floating point precision issues\n",
    "    for i in range(n-1, n+2):\n",
    "        if i**3 == a:\n",
    "            return True\n",
    "    \n",
    "    return False\n",
    "\n",
    "# Test cases\n",
    "print(iscube(1))    # True\n",
    "print(iscube(2))    # False\n",
    "print(iscube(-1))   # True\n",
    "print(iscube(64))   # True\n",
    "print(iscube(0))    # True\n",
    "print(iscube(180))  # False\n",
    "# BEGIN TESTS\n",
    "def check(candidate):\n",
    "\n",
    "    # Check some simple cases\n",
    "    assert candidate(1) == True, \"First test error: \" + str(candidate(1))\n",
    "    assert candidate(2) == False, \"Second test error: \" + str(candidate(2))\n",
    "    assert candidate(-1) == True, \"Third test error: \" + str(candidate(-1))\n",
    "    assert candidate(64) == True, \"Fourth test error: \" + str(candidate(64))\n",
    "    assert candidate(180) == False, \"Fifth test error: \" + str(candidate(180))\n",
    "    assert candidate(1000) == True, \"Sixth test error: \" + str(candidate(1000))\n",
    "\n",
    "\n",
    "    # Check some edge cases that are easy to work out by hand.\n",
    "    assert candidate(0) == True, \"1st edge test error: \" + str(candidate(0))\n",
    "    assert candidate(1729) == False, \"2nd edge test error: \" + str(candidate(1728))\n",
    "\n",
    "check(iscube)\n",
    "# END TESTS\"\n"
   ]
  },
  {
   "cell_type": "code",
   "execution_count": 38,
   "id": "548e228b",
   "metadata": {},
   "outputs": [
    {
     "name": "stdout",
     "output_type": "stream",
     "text": [
      "True\n",
      "False\n",
      "True\n",
      "True\n",
      "True\n",
      "False\n"
     ]
    }
   ],
   "source": [
    "def iscube(a):\n",
    "    '''\n",
    "    Determine if the integer a is a perfect cube.\n",
    "    \n",
    "    Parameters:\n",
    "    a (int): The integer to check.\n",
    "    \n",
    "    Returns:\n",
    "    bool: True if a is a perfect cube, False otherwise.\n",
    "    '''\n",
    "    # Handle the case where a is zero\n",
    "    if a == 0:\n",
    "        return True\n",
    "    \n",
    "    # Calculate the absolute value of a to handle negative numbers\n",
    "    abs_a = abs(a)\n",
    "    \n",
    "    # Calculate the cube root range to check\n",
    "    # We use int(abs_a**(1/3)) to get the integer part of the cube root\n",
    "    # We check from -root to +root to cover both negative and positive cubes\n",
    "    root = int(abs_a**(1/3)) + 1\n",
    "    \n",
    "    # Check each integer n in the range if n^3 equals a\n",
    "    for n in range(-root, root + 1):\n",
    "        if n**3 == a:\n",
    "            return True\n",
    "    \n",
    "    return False\n",
    "\n",
    "# Test cases\n",
    "print(iscube(1))    # True\n",
    "print(iscube(2))    # False\n",
    "print(iscube(-1))   # True\n",
    "print(iscube(64))   # True\n",
    "print(iscube(0))    # True\n",
    "print(iscube(180))  # False\n",
    "# BEGIN TESTS\n",
    "def check(candidate):\n",
    "\n",
    "    # Check some simple cases\n",
    "    assert candidate(1) == True, \"First test error: \" + str(candidate(1))\n",
    "    assert candidate(2) == False, \"Second test error: \" + str(candidate(2))\n",
    "    assert candidate(-1) == True, \"Third test error: \" + str(candidate(-1))\n",
    "    assert candidate(64) == True, \"Fourth test error: \" + str(candidate(64))\n",
    "    assert candidate(180) == False, \"Fifth test error: \" + str(candidate(180))\n",
    "    assert candidate(1000) == True, \"Sixth test error: \" + str(candidate(1000))\n",
    "\n",
    "\n",
    "    # Check some edge cases that are easy to work out by hand.\n",
    "    assert candidate(0) == True, \"1st edge test error: \" + str(candidate(0))\n",
    "    assert candidate(1729) == False, \"2nd edge test error: \" + str(candidate(1728))\n",
    "\n",
    "check(iscube)\n",
    "# END TESTS\"\n"
   ]
  },
  {
   "cell_type": "code",
   "execution_count": 39,
   "id": "a84ac7c7",
   "metadata": {},
   "outputs": [
    {
     "ename": "AssertionError",
     "evalue": "",
     "output_type": "error",
     "traceback": [
      "\u001b[1;31m---------------------------------------------------------------------------\u001b[0m",
      "\u001b[1;31mAssertionError\u001b[0m                            Traceback (most recent call last)",
      "Cell \u001b[1;32mIn[39], line 40\u001b[0m\n\u001b[0;32m     37\u001b[0m     \u001b[38;5;66;03m# Check some edge cases that are easy to work out by hand.\u001b[39;00m\n\u001b[0;32m     38\u001b[0m     \u001b[38;5;28;01massert\u001b[39;00m \u001b[38;5;28;01mTrue\u001b[39;00m, \u001b[38;5;124m\"\u001b[39m\u001b[38;5;124mThis prints if this assert fails 2 (also good for debugging!)\u001b[39m\u001b[38;5;124m\"\u001b[39m\n\u001b[1;32m---> 40\u001b[0m \u001b[43mcheck\u001b[49m\u001b[43m(\u001b[49m\u001b[43mstarts_one_ends\u001b[49m\u001b[43m)\u001b[49m\n\u001b[0;32m     41\u001b[0m \u001b[38;5;66;03m# END TESTS\u001b[39;00m\n",
      "Cell \u001b[1;32mIn[39], line 32\u001b[0m, in \u001b[0;36mcheck\u001b[1;34m(candidate)\u001b[0m\n\u001b[0;32m     30\u001b[0m \u001b[38;5;28;01massert\u001b[39;00m \u001b[38;5;28;01mTrue\u001b[39;00m, \u001b[38;5;124m\"\u001b[39m\u001b[38;5;124mThis prints if this assert fails 1 (good for debugging!)\u001b[39m\u001b[38;5;124m\"\u001b[39m\n\u001b[0;32m     31\u001b[0m \u001b[38;5;28;01massert\u001b[39;00m candidate(\u001b[38;5;241m1\u001b[39m) \u001b[38;5;241m==\u001b[39m \u001b[38;5;241m1\u001b[39m\n\u001b[1;32m---> 32\u001b[0m \u001b[38;5;28;01massert\u001b[39;00m candidate(\u001b[38;5;241m2\u001b[39m) \u001b[38;5;241m==\u001b[39m \u001b[38;5;241m18\u001b[39m\n\u001b[0;32m     33\u001b[0m \u001b[38;5;28;01massert\u001b[39;00m candidate(\u001b[38;5;241m3\u001b[39m) \u001b[38;5;241m==\u001b[39m \u001b[38;5;241m180\u001b[39m\n\u001b[0;32m     34\u001b[0m \u001b[38;5;28;01massert\u001b[39;00m candidate(\u001b[38;5;241m4\u001b[39m) \u001b[38;5;241m==\u001b[39m \u001b[38;5;241m1800\u001b[39m\n",
      "\u001b[1;31mAssertionError\u001b[0m: "
     ]
    }
   ],
   "source": [
    "def starts_one_ends(n):\n",
    "    \"\"\"\n",
    "    Given a positive integer n, return the count of the numbers of n-digit\n",
    "    positive integers that start or end with 1.\n",
    "    \"\"\"\n",
    "    if n == 1:\n",
    "        # Special case: For 1-digit numbers, only 1 is valid\n",
    "        return 1\n",
    "    \n",
    "    # Count of numbers starting with 1\n",
    "    start_with_1 = 10**(n-1)\n",
    "    \n",
    "    # Count of numbers ending with 1\n",
    "    end_with_1 = 10**(n-1)\n",
    "    \n",
    "    # Count of numbers starting and ending with 1\n",
    "    start_and_end_with_1 = 10**(n-2)\n",
    "    \n",
    "    # Total count using inclusion-exclusion principle\n",
    "    total_count = start_with_1 + end_with_1 - start_and_end_with_1\n",
    "    \n",
    "    return total_count\n",
    "\n",
    "# Example usage:\n",
    "# print(starts_one_ends(2))  # Output should be 19\n",
    "# BEGIN TESTS\n",
    "def check(candidate):\n",
    "\n",
    "    # Check some simple cases\n",
    "    assert True, \"This prints if this assert fails 1 (good for debugging!)\"\n",
    "    assert candidate(1) == 1\n",
    "    assert candidate(2) == 18\n",
    "    assert candidate(3) == 180\n",
    "    assert candidate(4) == 1800\n",
    "    assert candidate(5) == 18000\n",
    "\n",
    "    # Check some edge cases that are easy to work out by hand.\n",
    "    assert True, \"This prints if this assert fails 2 (also good for debugging!)\"\n",
    "\n",
    "check(starts_one_ends)\n",
    "# END TESTS\n"
   ]
  },
  {
   "cell_type": "code",
   "execution_count": null,
   "id": "189ddfab",
   "metadata": {},
   "outputs": [],
   "source": []
  },
  {
   "cell_type": "code",
   "execution_count": 2,
   "id": "57353e13",
   "metadata": {},
   "outputs": [],
   "source": [
    "data = [[\n",
    "{\"Prompt ID\": 0, \"Original Score\": 0.7, \"Weighted Score\": 196.0},\n",
    "],[\n",
    "{\"Prompt ID\": 0, \"Original Score\": 0.75, \"Weighted Score\": 252.33095238095234},\n",
    "{\"Prompt ID\": 1, \"Original Score\": 0.65, \"Weighted Score\": 200.86666666666662},\n",
    "{\"Prompt ID\": 2, \"Original Score\": 0.65, \"Weighted Score\": 193.38095238095235},\n",
    "{\"Prompt ID\": 3, \"Original Score\": 0.5, \"Weighted Score\": 138.06984126984128},\n",
    "{\"Prompt ID\": 4, \"Original Score\": 0.65, \"Weighted Score\": 210.84761904761902},\n",
    "{\"Prompt ID\": 5, \"Original Score\": 0.65, \"Weighted Score\": 210.84761904761902},\n",
    "{\"Prompt ID\": 6, \"Original Score\": 0.6, \"Weighted Score\": 174.66666666666663},\n",
    "{\"Prompt ID\": 7, \"Original Score\": 0.7, \"Weighted Score\": 237.7753968253968},\n",
    "{\"Prompt ID\": 8, \"Original Score\": 0.75, \"Weighted Score\": 277.2833333333333},\n",
    "{\"Prompt ID\": 9, \"Original Score\": 0.65, \"Weighted Score\": 199.93095238095236},\n",
    "],[\n",
    "{\"Prompt ID\": 0, \"Original Score\": 0.7, \"Weighted Score\": 220.1},\n",
    "{\"Prompt ID\": 1, \"Original Score\": 0.7, \"Weighted Score\": 227.19999999999996},\n",
    "{\"Prompt ID\": 2, \"Original Score\": 0.75, \"Weighted Score\": 243.76666666666665},\n",
    "{\"Prompt ID\": 3, \"Original Score\": 0.75, \"Weighted Score\": 243.76666666666665},\n",
    "{\"Prompt ID\": 4, \"Original Score\": 0.7, \"Weighted Score\": 220.09999999999997},\n",
    "{\"Prompt ID\": 5, \"Original Score\": 0.7, \"Weighted Score\": 226.01666666666662},\n",
    "{\"Prompt ID\": 6, \"Original Score\": 0.7, \"Weighted Score\": 233.11666666666665},\n",
    "{\"Prompt ID\": 7, \"Original Score\": 0.65, \"Weighted Score\": 209.45},\n",
    "{\"Prompt ID\": 8, \"Original Score\": 0.7, \"Weighted Score\": 215.36666666666665},\n",
    "{\"Prompt ID\": 9, \"Original Score\": 0.75, \"Weighted Score\": 375.1166666666667},\n",
    "],[\n",
    "{\"Prompt ID\": 0, \"Original Score\": 0.7, \"Weighted Score\": 213.88888888888889},\n",
    "{\"Prompt ID\": 1, \"Original Score\": 0.8, \"Weighted Score\": 276.8888888888889},\n",
    "{\"Prompt ID\": 2, \"Original Score\": 0.8, \"Weighted Score\": 276.8888888888889},\n",
    "{\"Prompt ID\": 3, \"Original Score\": 0.75, \"Weighted Score\": 248.88888888888889},\n",
    "{\"Prompt ID\": 4, \"Original Score\": 0.7, \"Weighted Score\": 224.38888888888889},\n",
    "{\"Prompt ID\": 5, \"Original Score\": 0.55, \"Weighted Score\": 155.55555555555554},\n",
    "{\"Prompt ID\": 6, \"Original Score\": 0.7, \"Weighted Score\": 225.55555555555554},\n",
    "{\"Prompt ID\": 7, \"Original Score\": 0.7, \"Weighted Score\": 218.55555555555554},\n",
    "{\"Prompt ID\": 8, \"Original Score\": 0.65, \"Weighted Score\": 208.83333333333331},\n",
    "{\"Prompt ID\": 9, \"Original Score\": 0.65, \"Weighted Score\": 190.55555555555554},\n",
    "],[\n",
    "{\"Prompt ID\": 0, \"Original Score\": 0.75, \"Weighted Score\": 251.5460317460317},\n",
    "{\"Prompt ID\": 1, \"Original Score\": 0.75, \"Weighted Score\": 281.76825396825393},\n",
    "{\"Prompt ID\": 2, \"Original Score\": 0.75, \"Weighted Score\": 274.2126984126984},\n",
    "{\"Prompt ID\": 3, \"Original Score\": 0.7, \"Weighted Score\": 240.21269841269836},\n",
    "{\"Prompt ID\": 4, \"Original Score\": 0.65, \"Weighted Score\": 220.78412698412697},\n",
    "{\"Prompt ID\": 5, \"Original Score\": 0.6, \"Weighted Score\": 181.11746031746029},\n",
    "{\"Prompt ID\": 6, \"Original Score\": 0.7, \"Weighted Score\": 217.5460317460317},\n",
    "{\"Prompt ID\": 7, \"Original Score\": 0.75, \"Weighted Score\": 277.45079365079357},\n",
    "{\"Prompt ID\": 8, \"Original Score\": 0.5, \"Weighted Score\": 146.57777777777775},\n",
    "{\"Prompt ID\": 9, \"Original Score\": 0.65, \"Weighted Score\": 220.78412698412697},\n",
    "]]"
   ]
  },
  {
   "cell_type": "code",
   "execution_count": 4,
   "id": "0475c1ad",
   "metadata": {},
   "outputs": [
    {
     "name": "stdout",
     "output_type": "stream",
     "text": [
      "1: [196.0],\n",
      "2: [252.33095238095234, 200.86666666666662, 193.38095238095235, 138.06984126984128, 210.84761904761902, 210.84761904761902, 174.66666666666663, 237.7753968253968, 277.2833333333333, 199.93095238095236],\n",
      "3: [220.1, 227.19999999999996, 243.76666666666665, 243.76666666666665, 220.09999999999997, 226.01666666666662, 233.11666666666665, 209.45, 215.36666666666665, 375.1166666666667],\n",
      "4: [213.88888888888889, 276.8888888888889, 276.8888888888889, 248.88888888888889, 224.38888888888889, 155.55555555555554, 225.55555555555554, 218.55555555555554, 208.83333333333331, 190.55555555555554],\n",
      "5: [251.5460317460317, 281.76825396825393, 274.2126984126984, 240.21269841269836, 220.78412698412697, 181.11746031746029, 217.5460317460317, 277.45079365079357, 146.57777777777775, 220.78412698412697],\n"
     ]
    }
   ],
   "source": [
    "for i, d in enumerate(data):\n",
    "    weightedScores = [p['Weighted Score'] for p in d]\n",
    "    print(f'{i+1}: {weightedScores},')"
   ]
  },
  {
   "cell_type": "code",
   "execution_count": 5,
   "id": "9886362e",
   "metadata": {},
   "outputs": [
    {
     "name": "stdout",
     "output_type": "stream",
     "text": [
      "1: [0.7],\n",
      "2: [0.75, 0.65, 0.65, 0.5, 0.65, 0.65, 0.6, 0.7, 0.75, 0.65],\n",
      "3: [0.7, 0.7, 0.75, 0.75, 0.7, 0.7, 0.7, 0.65, 0.7, 0.75],\n",
      "4: [0.7, 0.8, 0.8, 0.75, 0.7, 0.55, 0.7, 0.7, 0.65, 0.65],\n",
      "5: [0.75, 0.75, 0.75, 0.7, 0.65, 0.6, 0.7, 0.75, 0.5, 0.65],\n"
     ]
    }
   ],
   "source": [
    "for i, d in enumerate(data):\n",
    "    originalScores = [p['Original Score'] for p in d]\n",
    "    print(f'{i+1}: {originalScores},')"
   ]
  },
  {
   "cell_type": "code",
   "execution_count": 30,
   "id": "319c22f5",
   "metadata": {},
   "outputs": [],
   "source": [
    "import json\n",
    "\n",
    "task_results = {}\n",
    "file_path = \"gpt-4o-mini_code_generation_training_set/evaluation_results_auto_iter_5/train_set_gpt-4o-mini_{}.jsonl_results.jsonl\"\n",
    "for i in range(10):\n",
    "    path = file_path.format(i)\n",
    "    try:\n",
    "        with open(path, \"r\") as f:\n",
    "            for line in f:\n",
    "                row = json.loads(line)\n",
    "                task_id, passed = row['task_id'], row['passed']\n",
    "                if task_id not in task_results:\n",
    "                    task_results[task_id] = []\n",
    "                task_results[task_id].append(passed)\n",
    "    except FileNotFoundError:\n",
    "        for value in task_results.values():\n",
    "            value.append(False)"
   ]
  },
  {
   "cell_type": "code",
   "execution_count": 31,
   "id": "6a814ff7",
   "metadata": {},
   "outputs": [
    {
     "name": "stdout",
     "output_type": "stream",
     "text": [
      "True,True,True,True,True,True,True,False,True,True,\n",
      "True,True,True,True,True,False,False,False,True,False,\n",
      "True,True,True,True,True,True,True,False,True,True,\n",
      "False,False,False,False,False,False,False,False,False,False,\n",
      "False,False,False,False,False,False,False,False,False,False,\n",
      "True,False,True,True,True,True,True,False,True,True,\n",
      "True,True,True,False,True,True,True,False,False,True,\n",
      "True,True,True,True,False,True,True,False,True,True,\n",
      "False,True,True,False,False,False,False,False,False,True,\n",
      "True,True,True,True,True,True,True,False,True,True,\n",
      "True,True,True,True,True,True,True,False,True,True,\n",
      "True,True,True,True,True,True,True,False,True,True,\n",
      "True,True,True,True,True,True,True,False,True,True,\n",
      "False,False,False,False,False,False,False,False,False,False,\n",
      "True,True,True,True,True,True,True,False,True,True,\n",
      "False,False,False,False,False,False,False,False,False,False,\n",
      "True,True,True,True,True,True,True,False,True,True,\n",
      "False,False,False,False,False,False,False,False,False,False,\n",
      "True,True,True,True,True,True,True,False,True,True,\n",
      "True,True,True,True,True,True,True,False,True,True,\n"
     ]
    }
   ],
   "source": [
    "for k in keys:\n",
    "    value = task_results[k]\n",
    "    for val in value:\n",
    "        print(val, end=\",\")\n",
    "    print(\"\")"
   ]
  },
  {
   "cell_type": "code",
   "execution_count": 7,
   "id": "65cb0dec",
   "metadata": {},
   "outputs": [
    {
     "name": "stdout",
     "output_type": "stream",
     "text": [
      "['HumanEval/10', 'HumanEval/32', 'HumanEval/41', 'HumanEval/65', 'HumanEval/75', 'HumanEval/77', 'HumanEval/83', 'HumanEval/84', 'HumanEval/93', 'HumanEval/94', 'auto/0', 'auto/1', 'auto/2', 'auto/3', 'auto/4', 'auto/5', 'auto/6', 'auto/7', 'auto/8', 'auto/9']\n"
     ]
    }
   ],
   "source": [
    "keys = list(task_results.keys())\n",
    "keys.sort()\n",
    "print(keys)"
   ]
  },
  {
   "cell_type": "code",
   "execution_count": 11,
   "id": "9e81d1c1",
   "metadata": {},
   "outputs": [
    {
     "name": "stdout",
     "output_type": "stream",
     "text": [
      "HumanEval/10\n",
      "HumanEval/32\n",
      "HumanEval/41\n",
      "HumanEval/65\n",
      "HumanEval/75\n",
      "HumanEval/77\n",
      "HumanEval/83\n",
      "HumanEval/84\n",
      "HumanEval/93\n",
      "HumanEval/94\n",
      "auto/0\n",
      "auto/1\n",
      "auto/2\n",
      "auto/3\n",
      "auto/4\n",
      "auto/5\n",
      "auto/6\n",
      "auto/7\n",
      "auto/8\n",
      "auto/9\n"
     ]
    }
   ],
   "source": [
    "for key in keys:\n",
    "    print(key)"
   ]
  },
  {
   "cell_type": "code",
   "execution_count": null,
   "id": "91fc536c",
   "metadata": {},
   "outputs": [],
   "source": []
  }
 ],
 "metadata": {
  "kernelspec": {
   "display_name": "ds1000-3.10",
   "language": "python",
   "name": "python3"
  },
  "language_info": {
   "codemirror_mode": {
    "name": "ipython",
    "version": 3
   },
   "file_extension": ".py",
   "mimetype": "text/x-python",
   "name": "python",
   "nbconvert_exporter": "python",
   "pygments_lexer": "ipython3",
   "version": "3.10.18"
  }
 },
 "nbformat": 4,
 "nbformat_minor": 5
}
