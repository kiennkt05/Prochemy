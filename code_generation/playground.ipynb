{
 "cells": [
  {
   "cell_type": "code",
   "execution_count": null,
   "id": "7ce50014",
   "metadata": {},
   "outputs": [],
   "source": [
    "import json\n",
    "\n",
    "path = \"gpt-4o-mini_code_generation_training_set/optimized_prompts/iter_{}.jsonl\"\n",
    "\n",
    "prompts = []\n",
    "for i in range(5):\n",
    "    prompt = {}\n",
    "    with open(path.format(i+1), 'r') as file:\n",
    "        for line in file:\n",
    "            data = json.loads(line)\n",
    "            prompt[data['task_id']] = data['mutated_prompt']\n",
    "    prompts.append(prompt)"
   ]
  },
  {
   "cell_type": "code",
   "execution_count": null,
   "id": "eb93236a",
   "metadata": {},
   "outputs": [],
   "source": []
  }
 ],
 "metadata": {
  "kernelspec": {
   "display_name": "prochemy",
   "language": "python",
   "name": "prochemy"
  },
  "language_info": {
   "codemirror_mode": {
    "name": "ipython",
    "version": 3
   },
   "file_extension": ".py",
   "mimetype": "text/x-python",
   "name": "python",
   "nbconvert_exporter": "python",
   "pygments_lexer": "ipython3",
   "version": "3.13.5"
  }
 },
 "nbformat": 4,
 "nbformat_minor": 5
}
